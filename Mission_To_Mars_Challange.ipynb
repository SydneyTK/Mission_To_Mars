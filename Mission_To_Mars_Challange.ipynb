{
 "cells": [
  {
   "cell_type": "code",
   "execution_count": 1,
   "id": "b86625ba",
   "metadata": {},
   "outputs": [],
   "source": [
    "# Import Splinter and BeautifulSoup\n",
    "from splinter import Browser\n",
    "from bs4 import BeautifulSoup as soup\n",
    "from webdriver_manager.chrome import ChromeDriverManager\n",
    "\n",
    "#import Pandas\n",
    "import pandas as pd "
   ]
  },
  {
   "cell_type": "code",
   "execution_count": 2,
   "id": "eeac3741",
   "metadata": {},
   "outputs": [
    {
     "name": "stderr",
     "output_type": "stream",
     "text": [
      "\n",
      "\n",
      "====== WebDriver manager ======\n",
      "Current google-chrome version is 97.0.4692\n",
      "Get LATEST chromedriver version for 97.0.4692 google-chrome\n",
      "Driver [C:\\Users\\Sydney Kieswetter\\.wdm\\drivers\\chromedriver\\win32\\97.0.4692.71\\chromedriver.exe] found in cache\n"
     ]
    }
   ],
   "source": [
    "executable_path = {'executable_path': ChromeDriverManager().install()}\n",
    "browser = Browser('chrome', **executable_path, headless=False)"
   ]
  },
  {
   "cell_type": "markdown",
   "id": "6984a160",
   "metadata": {},
   "source": [
    "### 10.3.3 Visit the mars nasa news site"
   ]
  },
  {
   "cell_type": "code",
   "execution_count": null,
   "id": "84bbffb9",
   "metadata": {},
   "outputs": [],
   "source": [
    "#visit URL\n",
    "url = 'https://redplanetscience.com'\n",
    "browser.visit(url)\n",
    "# Optional delay for loading the page\n",
    "browser.is_element_present_by_css('div.list_text', wait_time=1)"
   ]
  },
  {
   "cell_type": "code",
   "execution_count": null,
   "id": "9e5201e6",
   "metadata": {},
   "outputs": [],
   "source": [
    "#set up HTML parser \n",
    "html = browser.html\n",
    "news_soup = soup(html, 'html.parser')\n",
    "slide_elem = news_soup.select_one('div.list_text')"
   ]
  },
  {
   "cell_type": "code",
   "execution_count": null,
   "id": "29170079",
   "metadata": {},
   "outputs": [],
   "source": [
    "#now start scraping \n",
    "slide_elem.find('div', class_='content_title')"
   ]
  },
  {
   "cell_type": "code",
   "execution_count": null,
   "id": "0e88d1c2",
   "metadata": {},
   "outputs": [],
   "source": [
    "#we just want the text\n",
    "# Use the parent element to find the first `a` tag and save it as `news_title`\n",
    "news_title = slide_elem.find('div', class_='content_title').get_text()\n",
    "news_title"
   ]
  },
  {
   "cell_type": "code",
   "execution_count": null,
   "id": "16201287",
   "metadata": {},
   "outputs": [],
   "source": [
    "#when executed your results should be the most recent title published on the website "
   ]
  },
  {
   "cell_type": "code",
   "execution_count": null,
   "id": "c900aeb6",
   "metadata": {},
   "outputs": [],
   "source": [
    "# Use the parent element (slide_elem) to find the paragraph text\n",
    "news_p = slide_elem.find('div', class_='article_teaser_body').get_text()\n",
    "news_p"
   ]
  },
  {
   "cell_type": "markdown",
   "id": "973001de",
   "metadata": {},
   "source": [
    "### 10.3.4 Featured Images "
   ]
  },
  {
   "cell_type": "code",
   "execution_count": null,
   "id": "7db3f8ab",
   "metadata": {},
   "outputs": [],
   "source": [
    "# Visit URL\n",
    "url = 'https://spaceimages-mars.com'\n",
    "browser.visit(url)"
   ]
  },
  {
   "cell_type": "code",
   "execution_count": null,
   "id": "c13cefa6",
   "metadata": {},
   "outputs": [],
   "source": [
    "# Find and click the full image button\n",
    "full_image_elem = browser.find_by_tag('button')[1]\n",
    "full_image_elem.click()\n",
    "#when this is run the automated browser should now show the slideshow or full size image "
   ]
  },
  {
   "cell_type": "code",
   "execution_count": null,
   "id": "fef07f6e",
   "metadata": {},
   "outputs": [],
   "source": [
    "# Parse the resulting full size image html with soup\n",
    "html = browser.html\n",
    "img_soup = soup(html, 'html.parser')"
   ]
  },
  {
   "cell_type": "code",
   "execution_count": null,
   "id": "48a044e1",
   "metadata": {},
   "outputs": [],
   "source": [
    "# Find the relative image url\n",
    "img_url_rel = img_soup.find('img', class_='fancybox-image').get('src')\n",
    "img_url_rel\n",
    "#link will be the output "
   ]
  },
  {
   "cell_type": "code",
   "execution_count": null,
   "id": "463fe658",
   "metadata": {},
   "outputs": [],
   "source": [
    "#combine base URL (spaceimages-mars.com) and above partial URL \n",
    "# Use the base URL to create an absolute URL\n",
    "img_url = f'https://spaceimages-mars.com/{img_url_rel}'\n",
    "img_url"
   ]
  },
  {
   "cell_type": "markdown",
   "id": "3ecab483",
   "metadata": {},
   "source": [
    "### 10.3.5 Mars Facts "
   ]
  },
  {
   "cell_type": "code",
   "execution_count": null,
   "id": "07446733",
   "metadata": {},
   "outputs": [],
   "source": [
    "df = pd.read_html('https://galaxyfacts-mars.com')[0]\n",
    "df.columns=['description', 'Mars', 'Earth']\n",
    "df.set_index('description', inplace=True)\n",
    "df"
   ]
  },
  {
   "cell_type": "code",
   "execution_count": null,
   "id": "ae5e3138",
   "metadata": {},
   "outputs": [],
   "source": [
    "#convert df back to HTM so it can be displayed on website \n",
    "df.to_html()"
   ]
  },
  {
   "cell_type": "markdown",
   "id": "d06d0424",
   "metadata": {},
   "source": [
    "# D1: Scrape High-Resolution Mars’ Hemisphere Images and Titles"
   ]
  },
  {
   "cell_type": "markdown",
   "id": "cdfb2c81",
   "metadata": {},
   "source": [
    "### Hemispheres"
   ]
  },
  {
   "cell_type": "code",
   "execution_count": 3,
   "id": "d10930e2",
   "metadata": {},
   "outputs": [],
   "source": [
    "# 1. Use browser to visit the URL \n",
    "url = 'https://marshemispheres.com/'\n",
    "\n",
    "browser.visit(url)"
   ]
  },
  {
   "cell_type": "code",
   "execution_count": 4,
   "id": "874b9a85",
   "metadata": {},
   "outputs": [],
   "source": [
    "# 2. Create a list to hold the images and titles.\n",
    "hemisphere_image_urls = []"
   ]
  },
  {
   "cell_type": "code",
   "execution_count": 5,
   "id": "2da69745",
   "metadata": {},
   "outputs": [],
   "source": [
    "# 3. Write code to retrieve the image urls and titles for each hemisphere.\n",
    "html = browser.html\n",
    "html_soup = soup(html, 'html.parser')\n",
    "\n",
    "#gets the titles\n",
    "title_one = browser.find_by_tag('h3')[0].text\n",
    "title_two=browser.find_by_tag('h3')[1].text\n",
    "title_three=browser.find_by_tag('h3')[2].text\n",
    "title_four=browser.find_by_tag('h3')[3].text"
   ]
  },
  {
   "cell_type": "code",
   "execution_count": 6,
   "id": "fdbee9a6",
   "metadata": {},
   "outputs": [
    {
     "data": {
      "text/plain": [
       "'images/f5e372a36edfa389625da6d0cc25d905_cerberus_enhanced.tif_full.jpg'"
      ]
     },
     "execution_count": 6,
     "metadata": {},
     "output_type": "execute_result"
    }
   ],
   "source": [
    "#click on picture 1\n",
    "full_image_elem = browser.find_by_tag('h3')[0]\n",
    "full_image_elem.click()\n",
    "# get the full res URL \n",
    "html = browser.html\n",
    "img_soup = soup(html, 'html.parser')\n",
    "img_one=img_soup.find('img', class_='wide-image').get('src')\n",
    "img_one"
   ]
  },
  {
   "cell_type": "code",
   "execution_count": 7,
   "id": "b0075b63",
   "metadata": {},
   "outputs": [
    {
     "data": {
      "text/plain": [
       "'images/3778f7b43bbbc89d6e3cfabb3613ba93_schiaparelli_enhanced.tif_full.jpg'"
      ]
     },
     "execution_count": 7,
     "metadata": {},
     "output_type": "execute_result"
    }
   ],
   "source": [
    "#clicks on picture 2 \n",
    "browser.back()\n",
    "full_image_elem = browser.find_by_tag('h3')[1]\n",
    "full_image_elem.click()\n",
    "html = browser.html\n",
    "img_soup = soup(html, 'html.parser')\n",
    "img_two=img_soup.find('img', class_='wide-image').get('src')\n",
    "img_two"
   ]
  },
  {
   "cell_type": "code",
   "execution_count": 8,
   "id": "170e9da1",
   "metadata": {},
   "outputs": [
    {
     "data": {
      "text/plain": [
       "'images/555e6403a6ddd7ba16ddb0e471cadcf7_syrtis_major_enhanced.tif_full.jpg'"
      ]
     },
     "execution_count": 8,
     "metadata": {},
     "output_type": "execute_result"
    }
   ],
   "source": [
    "#clicks on picture 3 \n",
    "browser.back()\n",
    "full_image_elem = browser.find_by_tag('h3')[2]\n",
    "full_image_elem.click()\n",
    "html = browser.html\n",
    "img_soup = soup(html, 'html.parser')\n",
    "img_three=img_soup.find('img', class_='wide-image').get('src')\n",
    "img_three"
   ]
  },
  {
   "cell_type": "code",
   "execution_count": 9,
   "id": "f56b696c",
   "metadata": {},
   "outputs": [
    {
     "data": {
      "text/plain": [
       "'images/b3c7c6c9138f57b4756be9b9c43e3a48_valles_marineris_enhanced.tif_full.jpg'"
      ]
     },
     "execution_count": 9,
     "metadata": {},
     "output_type": "execute_result"
    }
   ],
   "source": [
    "#clicks on picture 4\n",
    "browser.back() \n",
    "full_image_elem = browser.find_by_tag('h3')[3]\n",
    "full_image_elem.click()\n",
    "html = browser.html\n",
    "img_soup = soup(html, 'html.parser')\n",
    "img_four=img_soup.find('img', class_='wide-image').get('src')\n",
    "img_four"
   ]
  },
  {
   "cell_type": "code",
   "execution_count": 10,
   "id": "09b0ebea",
   "metadata": {},
   "outputs": [],
   "source": [
    "#create full URL's \n",
    "img_url_one = f'https://marshemispheres.com/{img_one}'\n",
    "img_url_two = f'https://marshemispheres.com/{img_two}'\n",
    "img_url_three = f'https://marshemispheres.com/{img_three}'\n",
    "img_url_four = f'https://marshemispheres.com/{img_four}'"
   ]
  },
  {
   "cell_type": "code",
   "execution_count": 12,
   "id": "20093106",
   "metadata": {},
   "outputs": [
    {
     "data": {
      "text/plain": [
       "[{'img_url': 'https://marshemispheres.com/images/f5e372a36edfa389625da6d0cc25d905_cerberus_enhanced.tif_full.jpg',\n",
       "  'title': 'Cerberus Hemisphere Enhanced'},\n",
       " {'img_url': 'https://marshemispheres.com/images/3778f7b43bbbc89d6e3cfabb3613ba93_schiaparelli_enhanced.tif_full.jpg',\n",
       "  'title': 'Schiaparelli Hemisphere Enhanced'},\n",
       " {'img_url': 'https://marshemispheres.com/images/555e6403a6ddd7ba16ddb0e471cadcf7_syrtis_major_enhanced.tif_full.jpg',\n",
       "  'title': 'Syrtis Major Hemisphere Enhanced'},\n",
       " {'img_url': 'https://marshemispheres.com/images/b3c7c6c9138f57b4756be9b9c43e3a48_valles_marineris_enhanced.tif_full.jpg',\n",
       "  'title': 'Valles Marineris Hemisphere Enhanced'}]"
      ]
     },
     "execution_count": 12,
     "metadata": {},
     "output_type": "execute_result"
    }
   ],
   "source": [
    "# 4. Print the list that holds the dictionary of each image url and title.\n",
    "hemisphere_image_urls = [{'img_url':img_url_one, 'title':title_one},\n",
    "                         {'img_url':img_url_two, 'title':title_two},\n",
    "                         {'img_url':img_url_three, 'title':title_three},\n",
    "                         {'img_url':img_url_four, 'title':title_four}]\n",
    "hemisphere_image_urls"
   ]
  },
  {
   "cell_type": "code",
   "execution_count": 13,
   "id": "cf54fff6",
   "metadata": {},
   "outputs": [],
   "source": [
    "# 5. Quit the browser\n",
    "browser.quit()"
   ]
  },
  {
   "cell_type": "code",
   "execution_count": null,
   "id": "c628fb08",
   "metadata": {},
   "outputs": [],
   "source": []
  }
 ],
 "metadata": {
  "kernelspec": {
   "display_name": "Python 3",
   "language": "python",
   "name": "python3"
  },
  "language_info": {
   "codemirror_mode": {
    "name": "ipython",
    "version": 3
   },
   "file_extension": ".py",
   "mimetype": "text/x-python",
   "name": "python",
   "nbconvert_exporter": "python",
   "pygments_lexer": "ipython3",
   "version": "3.8.8"
  }
 },
 "nbformat": 4,
 "nbformat_minor": 5
}
